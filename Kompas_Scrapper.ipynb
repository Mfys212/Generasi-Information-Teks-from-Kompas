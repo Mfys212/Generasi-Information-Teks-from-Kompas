{
  "nbformat": 4,
  "nbformat_minor": 0,
  "metadata": {
    "colab": {
      "provenance": [],
      "machine_shape": "hm",
      "gpuType": "V28",
      "include_colab_link": true
    },
    "kernelspec": {
      "name": "python3",
      "display_name": "Python 3"
    },
    "language_info": {
      "name": "python"
    },
    "accelerator": "TPU"
  },
  "cells": [
    {
      "cell_type": "markdown",
      "metadata": {
        "id": "view-in-github",
        "colab_type": "text"
      },
      "source": [
        "<a href=\"https://colab.research.google.com/github/Mfys212/Generasi-Information-Teks-from-Kompas/blob/main/Kompas_Scrapper.ipynb\" target=\"_parent\"><img src=\"https://colab.research.google.com/assets/colab-badge.svg\" alt=\"Open In Colab\"/></a>"
      ]
    },
    {
      "cell_type": "code",
      "execution_count": null,
      "metadata": {
        "colab": {
          "base_uri": "https://localhost:8080/"
        },
        "id": "0-vZBdit7o5-",
        "outputId": "48adb54e-fc1d-4c72-ec84-0cd6cc3a7e0e"
      },
      "outputs": [
        {
          "output_type": "stream",
          "name": "stderr",
          "text": [
            "scraping |█████████▍                   | 324/1000 [14:16<29:46,  2.64s/it] pages"
          ]
        },
        {
          "output_type": "stream",
          "name": "stdout",
          "text": [
            "\n",
            "Sudah sampai halaman terakhir\n"
          ]
        },
        {
          "output_type": "stream",
          "name": "stderr",
          "text": [
            "\n"
          ]
        },
        {
          "output_type": "stream",
          "name": "stdout",
          "text": [
            "Menyelesaikan....\n",
            "Sukses!\n"
          ]
        }
      ],
      "source": [
        "import multiprocessing\n",
        "from concurrent.futures import ThreadPoolExecutor, as_completed\n",
        "import requests\n",
        "from bs4 import BeautifulSoup\n",
        "import pandas as pd\n",
        "import json\n",
        "import re\n",
        "from tqdm import tqdm\n",
        "from datetime import datetime\n",
        "import pytz\n",
        "\n",
        "class ScrapKompas:\n",
        "  def __init__(self, tag, max_page=5):\n",
        "    self.page = f\"https://www.kompas.com/tag/{tag}?page=\"\n",
        "    self.link, self.tanggal, self.judul, self.konten = [], [], [], []\n",
        "    self.max_page = max_page\n",
        "    self.max_workers = multiprocessing.cpu_count()\n",
        "\n",
        "  def get_link(self, soup):\n",
        "    links = soup.find_all('a', class_='article__link')\n",
        "    return links\n",
        "\n",
        "  def get_tanggal(self, soup):\n",
        "    try:\n",
        "      try:\n",
        "        time_text = soup.find('div', class_='read__time').get_text()\n",
        "        pattern = r'\\d{2}/\\d{2}/\\d{4}, \\d{2}:\\d{2} \\w{3}'\n",
        "        time = re.search(pattern, time_text).group()\n",
        "        date = re.sub(r'(\\d{2})/(\\d{2})/(\\d{4}), (\\d{2}:\\d{2}) (\\w{3})', r'\\3-\\2-\\1 \\4:00', time)\n",
        "      except:\n",
        "        month_mapping = {\n",
        "          'Januari': 'January',\n",
        "          'Februari': 'February',\n",
        "          'Maret': 'March',\n",
        "          'April': 'April',\n",
        "          'Mei': 'May',\n",
        "          'Juni': 'June',\n",
        "          'Juli': 'July',\n",
        "          'Agustus': 'August',\n",
        "          'September': 'September',\n",
        "          'Oktober': 'October',\n",
        "          'November': 'November',\n",
        "          'Desember': 'December'\n",
        "        }\n",
        "        date = soup.find('div', class_='videoKG-date').get_text()\n",
        "        for ind_month, eng_month in month_mapping.items():\n",
        "          date = date.replace(ind_month, eng_month)\n",
        "        date = datetime.strptime(date, \"%d %B %Y, %H:%M WIB\")\n",
        "        wib = pytz.timezone('Asia/Jakarta').localize(date)\n",
        "        date = wib.strftime(\"%Y-%m-%d %H:%M:%S\")\n",
        "    except:\n",
        "      date = \"\"\n",
        "    return date\n",
        "\n",
        "  def get_judul(self, soup):\n",
        "    try:\n",
        "      title = soup.find('h1', class_='read__title').get_text()\n",
        "    except:\n",
        "      title = \"\"\n",
        "    return title\n",
        "\n",
        "  def get_konten(self, soup):\n",
        "    try:\n",
        "      content = soup.find('div', class_='read__content').get_text(strip=True)\n",
        "    except:\n",
        "      content = \"\"\n",
        "    return content\n",
        "\n",
        "  def get_data(self, save=True, output=\"csv\", filename=\"data.csv\"):\n",
        "    def process_link(link):\n",
        "      try:\n",
        "        soup = BeautifulSoup(requests.get(link['href']).content, 'html.parser')\n",
        "        tanggal = self.get_tanggal(soup)\n",
        "        judul = self.get_judul(soup)\n",
        "        konten = self.get_konten(soup)\n",
        "        if judul != \"\" and konten != \"\":\n",
        "          self.link.append(link['href'])\n",
        "          self.tanggal.append(tanggal)\n",
        "          self.judul.append(judul)\n",
        "          self.konten.append(konten)\n",
        "      except:\n",
        "        pass\n",
        "\n",
        "    with ThreadPoolExecutor(max_workers=self.max_workers) as executor:\n",
        "      futures = []\n",
        "      i = 1\n",
        "      pbar = tqdm(total=self.max_page, ncols=80, bar_format='scraping |{bar}{r_bar} pages')\n",
        "      while True:\n",
        "        page = requests.get(self.page + str(i))\n",
        "        soup = BeautifulSoup(page.content, 'html.parser')\n",
        "        if soup.find('h1', class_='p404__bigtitle'):\n",
        "          print(\"\\nSudah sampai halaman terakhir\")\n",
        "          break\n",
        "        links = self.get_link(soup)\n",
        "        for link in links:\n",
        "          futures.append(executor.submit(process_link, link))\n",
        "        pbar.update(1)\n",
        "        if self.max_page is not None and i == self.max_page:\n",
        "          break\n",
        "        i -= -1\n",
        "      pbar.close()\n",
        "\n",
        "      print(\"Menyelesaikan....\")\n",
        "      for future in as_completed(futures):\n",
        "        future.result()\n",
        "\n",
        "    if save:\n",
        "      if output == \"csv\":\n",
        "        self.save_to_csv(filename=filename)\n",
        "      elif output == \"json\":\n",
        "        self.save_to_json(filename=filename)\n",
        "\n",
        "    print(\"Sukses!\")\n",
        "    return pd.DataFrame({\"Tanggal\":self.tanggal, \"Judul\":self.judul, \"Konten\":self.konten, \"Link\":self.link})\n",
        "\n",
        "  def save_to_csv(self, filename=\"data.csv\"):\n",
        "    data = pd.DataFrame({\"Tanggal\":self.tanggal, \"Judul\":self.judul, \"Konten\":self.konten, \"Link\":self.link})\n",
        "    data.to_csv(filename, index=False)\n",
        "\n",
        "  def save_to_json(self, filename=\"data.json\"):\n",
        "    data = []\n",
        "    for j in range(len(self.judul)):\n",
        "      data.append({\n",
        "        'Tanggal': self.tanggal[j],\n",
        "        'Judul': self.judul[j],\n",
        "        'Konten': self.konten[j],\n",
        "        'Link': self.link[j]\n",
        "      })\n",
        "    with open(filename, 'w', encoding='utf-8') as jsonfile:\n",
        "      json.dump(data, jsonfile, ensure_ascii=False, indent=4)\n",
        "\n",
        "scrapper = ScrapKompas('teknologi', max_page=1000)\n",
        "teknologi = scrapper.get_data(save=True, output=\"csv\", filename=\"teknologi.csv\")"
      ]
    },
    {
      "cell_type": "code",
      "source": [
        "scrapper2 = ScrapKompas('ai', max_page=1000)\n",
        "ai = scrapper2.get_data(save=True, output=\"csv\", filename=\"ai.csv\")"
      ],
      "metadata": {
        "id": "OtLUa39D5NvA",
        "colab": {
          "base_uri": "https://localhost:8080/"
        },
        "outputId": "cd728188-5e5c-41ad-a677-5b075b67725c"
      },
      "execution_count": null,
      "outputs": [
        {
          "output_type": "stream",
          "name": "stderr",
          "text": [
            "scraping |██▍                           | 81/1000 [03:36<40:59,  2.68s/it] pages"
          ]
        },
        {
          "output_type": "stream",
          "name": "stdout",
          "text": [
            "\n",
            "Sudah sampai halaman terakhir\n",
            "Menyelesaikan....\n"
          ]
        },
        {
          "output_type": "stream",
          "name": "stderr",
          "text": [
            "\n"
          ]
        },
        {
          "output_type": "stream",
          "name": "stdout",
          "text": [
            "Sukses!\n"
          ]
        }
      ]
    },
    {
      "cell_type": "code",
      "source": [
        "scrapper3 = ScrapKompas('komputer', max_page=1000)\n",
        "komputer = scrapper3.get_data(save=True, output=\"csv\", filename=\"komputer.csv\")"
      ],
      "metadata": {
        "id": "uk2-dZP18sm3",
        "colab": {
          "base_uri": "https://localhost:8080/"
        },
        "outputId": "4c1ac8f0-7e4c-40cd-9009-6f692b513e4c"
      },
      "execution_count": null,
      "outputs": [
        {
          "output_type": "stream",
          "name": "stderr",
          "text": [
            "scraping |█▊                            | 59/1000 [02:37<41:50,  2.67s/it] pages"
          ]
        },
        {
          "output_type": "stream",
          "name": "stdout",
          "text": [
            "\n",
            "Sudah sampai halaman terakhir\n",
            "Menyelesaikan....\n",
            "Sukses!\n"
          ]
        },
        {
          "output_type": "stream",
          "name": "stderr",
          "text": [
            "\n"
          ]
        }
      ]
    },
    {
      "cell_type": "code",
      "source": [
        "scrapper4 = ScrapKompas('sains', max_page=1000)\n",
        "sains = scrapper4.get_data(save=True, output=\"csv\", filename=\"sains.csv\")"
      ],
      "metadata": {
        "id": "bg9seyfR8yfa",
        "colab": {
          "base_uri": "https://localhost:8080/"
        },
        "outputId": "9c9d4baf-932b-4a54-df37-462c2e4891a2"
      },
      "execution_count": null,
      "outputs": [
        {
          "output_type": "stream",
          "name": "stderr",
          "text": [
            "scraping |██                            | 70/1000 [03:09<42:02,  2.71s/it] pages"
          ]
        },
        {
          "output_type": "stream",
          "name": "stdout",
          "text": [
            "\n",
            "Sudah sampai halaman terakhir\n",
            "Menyelesaikan....\n"
          ]
        },
        {
          "output_type": "stream",
          "name": "stderr",
          "text": [
            "\n"
          ]
        },
        {
          "output_type": "stream",
          "name": "stdout",
          "text": [
            "Sukses!\n"
          ]
        }
      ]
    },
    {
      "cell_type": "code",
      "source": [
        "scrapper5 = ScrapKompas('teknik', max_page=1000)\n",
        "teknik = scrapper5.get_data(save=True, output=\"csv\", filename=\"teknik.csv\")"
      ],
      "metadata": {
        "id": "jkwIGVvt84N6",
        "colab": {
          "base_uri": "https://localhost:8080/"
        },
        "outputId": "619cdf0b-cf54-443b-9627-5de46e2cef1e"
      },
      "execution_count": null,
      "outputs": [
        {
          "output_type": "stream",
          "name": "stderr",
          "text": [
            "scraping |███▋                         | 125/1000 [05:39<39:35,  2.71s/it] pages"
          ]
        },
        {
          "output_type": "stream",
          "name": "stdout",
          "text": [
            "\n",
            "Sudah sampai halaman terakhir\n",
            "Menyelesaikan....\n"
          ]
        },
        {
          "output_type": "stream",
          "name": "stderr",
          "text": [
            "\n"
          ]
        },
        {
          "output_type": "stream",
          "name": "stdout",
          "text": [
            "Sukses!\n"
          ]
        }
      ]
    },
    {
      "cell_type": "code",
      "source": [
        "scrapper6 = ScrapKompas('matematika', max_page=1000)\n",
        "matematika = scrapper6.get_data(save=True, output=\"csv\", filename=\"matematika.csv\")"
      ],
      "metadata": {
        "colab": {
          "base_uri": "https://localhost:8080/"
        },
        "id": "9Pmqvn0WZKWn",
        "outputId": "ae5b6cec-2e9d-4179-c28a-daf92d3d3cc1"
      },
      "execution_count": null,
      "outputs": [
        {
          "output_type": "stream",
          "name": "stderr",
          "text": [
            "scraping |██▍                           | 83/1000 [03:47<41:56,  2.74s/it] pages"
          ]
        },
        {
          "output_type": "stream",
          "name": "stdout",
          "text": [
            "\n",
            "Sudah sampai halaman terakhir\n",
            "Menyelesaikan....\n"
          ]
        },
        {
          "output_type": "stream",
          "name": "stderr",
          "text": [
            "\n"
          ]
        },
        {
          "output_type": "stream",
          "name": "stdout",
          "text": [
            "Sukses!\n"
          ]
        }
      ]
    },
    {
      "cell_type": "code",
      "source": [
        "scrapper7 = ScrapKompas('statistika', max_page=1000)\n",
        "statistika = scrapper7.get_data(save=True, output=\"csv\", filename=\"statistika.csv\")"
      ],
      "metadata": {
        "colab": {
          "base_uri": "https://localhost:8080/"
        },
        "id": "eON0CgCBa_Bt",
        "outputId": "21617b93-908f-400b-b463-80a757385a79"
      },
      "execution_count": null,
      "outputs": [
        {
          "output_type": "stream",
          "name": "stderr",
          "text": [
            "scraping |                               | 3/1000 [00:07<43:06,  2.59s/it] pages"
          ]
        },
        {
          "output_type": "stream",
          "name": "stdout",
          "text": [
            "\n",
            "Sudah sampai halaman terakhir\n",
            "Menyelesaikan....\n"
          ]
        },
        {
          "output_type": "stream",
          "name": "stderr",
          "text": [
            "\n"
          ]
        },
        {
          "output_type": "stream",
          "name": "stdout",
          "text": [
            "Sukses!\n"
          ]
        }
      ]
    },
    {
      "cell_type": "code",
      "source": [
        "scrapper8 = ScrapKompas('pemrograman', max_page=1000)\n",
        "pemrograman = scrapper8.get_data(save=True, output=\"csv\", filename=\"pemrograman.csv\")"
      ],
      "metadata": {
        "colab": {
          "base_uri": "https://localhost:8080/"
        },
        "id": "-wda0a6XdSb5",
        "outputId": "5459e3fa-9946-45ea-f80c-080dca7c0a05"
      },
      "execution_count": null,
      "outputs": [
        {
          "output_type": "stream",
          "name": "stderr",
          "text": [
            "scraping |                               | 4/1000 [00:09<39:43,  2.39s/it] pages"
          ]
        },
        {
          "output_type": "stream",
          "name": "stdout",
          "text": [
            "\n",
            "Sudah sampai halaman terakhir\n",
            "Menyelesaikan....\n"
          ]
        },
        {
          "output_type": "stream",
          "name": "stderr",
          "text": [
            "\n"
          ]
        },
        {
          "output_type": "stream",
          "name": "stdout",
          "text": [
            "Sukses!\n"
          ]
        }
      ]
    },
    {
      "cell_type": "code",
      "source": [
        "scrapper9 = ScrapKompas('data', max_page=1000)\n",
        "data = scrapper9.get_data(save=True, output=\"csv\", filename=\"data.csv\")"
      ],
      "metadata": {
        "colab": {
          "base_uri": "https://localhost:8080/"
        },
        "id": "oeNGMOEonJig",
        "outputId": "5c669c17-59bf-4e2b-d6b4-2a104f55fae1"
      },
      "execution_count": null,
      "outputs": [
        {
          "output_type": "stream",
          "name": "stderr",
          "text": [
            "scraping |██████████████▌              | 500/1000 [23:37<23:37,  2.84s/it] pages"
          ]
        },
        {
          "output_type": "stream",
          "name": "stdout",
          "text": [
            "\n",
            "Sudah sampai halaman terakhir\n",
            "Menyelesaikan....\n"
          ]
        },
        {
          "output_type": "stream",
          "name": "stderr",
          "text": [
            "\n"
          ]
        },
        {
          "output_type": "stream",
          "name": "stdout",
          "text": [
            "Sukses!\n"
          ]
        }
      ]
    },
    {
      "cell_type": "code",
      "source": [
        "scrapper10 = ScrapKompas('kimia', max_page=1000)\n",
        "kimia = scrapper10.get_data(save=True, output=\"csv\", filename=\"kimia.csv\")"
      ],
      "metadata": {
        "colab": {
          "base_uri": "https://localhost:8080/"
        },
        "id": "77FQrFNKvHnV",
        "outputId": "1e02895f-274c-45dc-9686-d239fc3aa1ed"
      },
      "execution_count": null,
      "outputs": [
        {
          "output_type": "stream",
          "name": "stderr",
          "text": [
            "scraping |███▏                         | 110/1000 [05:01<40:37,  2.74s/it] pages"
          ]
        },
        {
          "output_type": "stream",
          "name": "stdout",
          "text": [
            "\n",
            "Sudah sampai halaman terakhir\n",
            "Menyelesaikan....\n"
          ]
        },
        {
          "output_type": "stream",
          "name": "stderr",
          "text": [
            "\n"
          ]
        },
        {
          "output_type": "stream",
          "name": "stdout",
          "text": [
            "Sukses!\n"
          ]
        }
      ]
    },
    {
      "cell_type": "code",
      "source": [
        "scrapper11 = ScrapKompas('fisika', max_page=1000)\n",
        "fisika = scrapper11.get_data(save=True, output=\"csv\", filename=\"fisika.csv\")"
      ],
      "metadata": {
        "colab": {
          "base_uri": "https://localhost:8080/"
        },
        "id": "z-KLOTiOvP3e",
        "outputId": "77bea210-f082-4dc7-ee8c-1ae88546f4a8"
      },
      "execution_count": null,
      "outputs": [
        {
          "output_type": "stream",
          "name": "stderr",
          "text": [
            "scraping |█                             | 36/1000 [01:38<43:53,  2.73s/it] pages"
          ]
        },
        {
          "output_type": "stream",
          "name": "stdout",
          "text": [
            "\n",
            "Sudah sampai halaman terakhir\n"
          ]
        },
        {
          "output_type": "stream",
          "name": "stderr",
          "text": [
            "\n"
          ]
        },
        {
          "output_type": "stream",
          "name": "stdout",
          "text": [
            "Menyelesaikan....\n",
            "Sukses!\n"
          ]
        }
      ]
    },
    {
      "cell_type": "code",
      "source": [
        "scrapper12 = ScrapKompas('biologi', max_page=1000)\n",
        "biologi = scrapper12.get_data(save=True, output=\"csv\", filename=\"biologi.csv\")"
      ],
      "metadata": {
        "colab": {
          "base_uri": "https://localhost:8080/"
        },
        "id": "ESkNNEJavS1P",
        "outputId": "a700b2d0-9b00-44a3-ec06-a15c50406e7a"
      },
      "execution_count": null,
      "outputs": [
        {
          "output_type": "stream",
          "name": "stderr",
          "text": [
            "scraping |█▊                            | 62/1000 [02:53<43:44,  2.80s/it] pages"
          ]
        },
        {
          "output_type": "stream",
          "name": "stdout",
          "text": [
            "\n",
            "Sudah sampai halaman terakhir\n",
            "Menyelesaikan....\n"
          ]
        },
        {
          "output_type": "stream",
          "name": "stderr",
          "text": [
            "\n"
          ]
        },
        {
          "output_type": "stream",
          "name": "stdout",
          "text": [
            "Sukses!\n"
          ]
        }
      ]
    },
    {
      "cell_type": "code",
      "source": [
        "scrapper13 = ScrapKompas('algoritma', max_page=1000)\n",
        "algoritma = scrapper13.get_data(save=True, output=\"csv\", filename=\"algoritma.csv\")"
      ],
      "metadata": {
        "colab": {
          "base_uri": "https://localhost:8080/"
        },
        "id": "e1ReD6Bt0PI8",
        "outputId": "256d9bb8-34ca-4cdf-b78c-6da8d61a6649"
      },
      "execution_count": null,
      "outputs": [
        {
          "output_type": "stream",
          "name": "stderr",
          "text": [
            "scraping |▏                              | 6/1000 [00:15<42:19,  2.55s/it] pages"
          ]
        },
        {
          "output_type": "stream",
          "name": "stdout",
          "text": [
            "\n",
            "Sudah sampai halaman terakhir\n",
            "Menyelesaikan....\n"
          ]
        },
        {
          "output_type": "stream",
          "name": "stderr",
          "text": [
            "\n"
          ]
        },
        {
          "output_type": "stream",
          "name": "stdout",
          "text": [
            "Sukses!\n"
          ]
        }
      ]
    }
  ]
}